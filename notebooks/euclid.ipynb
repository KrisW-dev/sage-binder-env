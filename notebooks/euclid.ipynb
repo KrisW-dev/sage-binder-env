{
 "cells": [
  {
   "cell_type": "code",
   "execution_count": 11,
   "id": "ea906e51-32a0-4200-81e6-303032c0ce3c",
   "metadata": {},
   "outputs": [],
   "source": [
    "%display latex"
   ]
  },
  {
   "cell_type": "code",
   "execution_count": 1,
   "id": "f01f4116-f93a-4984-b119-8af247011bf0",
   "metadata": {},
   "outputs": [],
   "source": [
    "def ediv(a,b):\n",
    "    return a.quo_rem(b)"
   ]
  },
  {
   "cell_type": "code",
   "execution_count": 4,
   "id": "57e75778-0fd2-4642-87f1-1eee330795fc",
   "metadata": {},
   "outputs": [
    {
     "data": {
      "text/html": [
       "<html>\\(\\displaystyle \\newcommand{\\Bold}[1]{\\mathbf{#1}}\\Bold{Q}[X]\\)</html>"
      ],
      "text/latex": [
       "$\\displaystyle \\newcommand{\\Bold}[1]{\\mathbf{#1}}\\Bold{Q}[X]$"
      ],
      "text/plain": [
       "Univariate Polynomial Ring in X over Rational Field"
      ]
     },
     "execution_count": 4,
     "metadata": {},
     "output_type": "execute_result"
    }
   ],
   "source": [
    "X = var('X')\n",
    "A = PolynomialRing(QQ, 'X')\n",
    "A"
   ]
  },
  {
   "cell_type": "markdown",
   "id": "d4710c0e-c96c-4032-ae67-6aaf6a349925",
   "metadata": {},
   "source": [
    "# Exo 1"
   ]
  },
  {
   "cell_type": "code",
   "execution_count": 5,
   "id": "0bf8148d-f63f-4964-8569-ab93f58419ee",
   "metadata": {},
   "outputs": [
    {
     "data": {
      "text/html": [
       "<html>\\(\\displaystyle \\left(6 X^{4} + 2 X^{3} + 5 X^{2} + 3 X + 2, 2 X^{2} + 1\\right)\\)</html>"
      ],
      "text/latex": [
       "$\\displaystyle \\left(6 X^{4} + 2 X^{3} + 5 X^{2} + 3 X + 2, 2 X^{2} + 1\\right)$"
      ],
      "text/plain": [
       "(6*X^4 + 2*X^3 + 5*X^2 + 3*X + 2, 2*X^2 + 1)"
      ]
     },
     "execution_count": 5,
     "metadata": {},
     "output_type": "execute_result"
    }
   ],
   "source": [
    "S = A(6*X**4 + 2*X**3 + 5*X**2 + 3*X + 2)\n",
    "T = A(2*X**2 + 1)\n",
    "S,T"
   ]
  },
  {
   "cell_type": "code",
   "execution_count": 6,
   "id": "395fe70b-aad7-409d-bae0-48a76bced056",
   "metadata": {},
   "outputs": [
    {
     "data": {
      "text/html": [
       "<html>\\(\\displaystyle \\mathrm{True}\\)</html>"
      ],
      "text/latex": [
       "$\\displaystyle \\mathrm{True}$"
      ],
      "text/plain": [
       "True"
      ]
     },
     "execution_count": 6,
     "metadata": {},
     "output_type": "execute_result"
    }
   ],
   "source": [
    "S in A"
   ]
  },
  {
   "cell_type": "code",
   "execution_count": 7,
   "id": "a4c4eb7d-7d86-4c9d-a747-622b2437f994",
   "metadata": {},
   "outputs": [
    {
     "data": {
      "text/html": [
       "<html>\\(\\displaystyle \\left(X\\right)\\)</html>"
      ],
      "text/latex": [
       "$\\displaystyle \\left(X\\right)$"
      ],
      "text/plain": [
       "(X,)"
      ]
     },
     "execution_count": 7,
     "metadata": {},
     "output_type": "execute_result"
    }
   ],
   "source": [
    "A.gens()"
   ]
  },
  {
   "cell_type": "code",
   "execution_count": 8,
   "id": "91716f32-b60a-4002-843b-20f7b912be85",
   "metadata": {},
   "outputs": [
    {
     "data": {
      "text/html": [
       "<html>\\(\\displaystyle \\left(3 X^{2} + X + 1, 2 X + 1\\right)\\)</html>"
      ],
      "text/latex": [
       "$\\displaystyle \\left(3 X^{2} + X + 1, 2 X + 1\\right)$"
      ],
      "text/plain": [
       "(3*X^2 + X + 1, 2*X + 1)"
      ]
     },
     "execution_count": 8,
     "metadata": {},
     "output_type": "execute_result"
    }
   ],
   "source": [
    "Q,R = ediv(S,T)\n",
    "Q,R"
   ]
  },
  {
   "cell_type": "code",
   "execution_count": 9,
   "id": "c7037d31-ada5-4f7b-ba79-ef937535e42a",
   "metadata": {},
   "outputs": [
    {
     "data": {
      "text/html": [
       "<html>\\(\\displaystyle \\mathrm{True}\\)</html>"
      ],
      "text/latex": [
       "$\\displaystyle \\mathrm{True}$"
      ],
      "text/plain": [
       "True"
      ]
     },
     "execution_count": 9,
     "metadata": {},
     "output_type": "execute_result"
    }
   ],
   "source": [
    "S == Q*T + R"
   ]
  },
  {
   "cell_type": "code",
   "execution_count": 10,
   "id": "95388dfa-8c2c-452b-8444-5208b19d39ff",
   "metadata": {},
   "outputs": [
    {
     "data": {
      "text/html": [
       "<html>\\(\\displaystyle \\left(1, -\\frac{2}{3} X + \\frac{1}{3}, 2 X^{3} - \\frac{1}{3} X^{2} + \\frac{1}{3} X + \\frac{1}{3}\\right)\\)</html>"
      ],
      "text/latex": [
       "$\\displaystyle \\left(1, -\\frac{2}{3} X + \\frac{1}{3}, 2 X^{3} - \\frac{1}{3} X^{2} + \\frac{1}{3} X + \\frac{1}{3}\\right)$"
      ],
      "text/plain": [
       "(1, -2/3*X + 1/3, 2*X^3 - 1/3*X^2 + 1/3*X + 1/3)"
      ]
     },
     "execution_count": 10,
     "metadata": {},
     "output_type": "execute_result"
    }
   ],
   "source": [
    "xgcd(S,T)"
   ]
  },
  {
   "cell_type": "markdown",
   "id": "f026fced-0a15-42b9-a65b-eafaa0249604",
   "metadata": {},
   "source": [
    "# Exo 2"
   ]
  },
  {
   "cell_type": "code",
   "execution_count": 12,
   "id": "6fb258f6-6101-42c8-9907-08584e944593",
   "metadata": {},
   "outputs": [],
   "source": [
    "N1 = A(X**2 + 1)\n",
    "N2 = A(2*X**3 - X**2 + 2*X + 3)\n",
    "N3 = A(X**4 + 3*X**2 - X + 2)"
   ]
  },
  {
   "cell_type": "code",
   "execution_count": 13,
   "id": "b918d3cb-d6c7-4733-8d2c-8a55467d0703",
   "metadata": {},
   "outputs": [
    {
     "data": {
      "text/html": [
       "<html>\\(\\displaystyle \\left(X^{2} + 1, 2 X^{3} - X^{2} + 2 X + 3, X^{4} + 3 X^{2} - X + 2\\right)\\)</html>"
      ],
      "text/latex": [
       "$\\displaystyle \\left(X^{2} + 1, 2 X^{3} - X^{2} + 2 X + 3, X^{4} + 3 X^{2} - X + 2\\right)$"
      ],
      "text/plain": [
       "(X^2 + 1, 2*X^3 - X^2 + 2*X + 3, X^4 + 3*X^2 - X + 2)"
      ]
     },
     "execution_count": 13,
     "metadata": {},
     "output_type": "execute_result"
    }
   ],
   "source": [
    "N1,N2,N3"
   ]
  },
  {
   "cell_type": "code",
   "execution_count": 15,
   "id": "6552b22c-1d77-40f5-bc9e-d46e57eef312",
   "metadata": {},
   "outputs": [
    {
     "data": {
      "text/html": [
       "<html>\\(\\displaystyle \\left(X^{5} + 3 X^{4} - X^{2} + 1, X^{13} + X^{11} + X^{7} - 1, X^{11} + 3 X^{2} - 1\\right)\\)</html>"
      ],
      "text/latex": [
       "$\\displaystyle \\left(X^{5} + 3 X^{4} - X^{2} + 1, X^{13} + X^{11} + X^{7} - 1, X^{11} + 3 X^{2} - 1\\right)$"
      ],
      "text/plain": [
       "(X^5 + 3*X^4 - X^2 + 1, X^13 + X^11 + X^7 - 1, X^11 + 3*X^2 - 1)"
      ]
     },
     "execution_count": 15,
     "metadata": {},
     "output_type": "execute_result"
    }
   ],
   "source": [
    "A1 = A(X**5 + 3*X**4 - X**2 + 1)\n",
    "A2 = A(X**13 + X**11 + X**7 - 1)\n",
    "A3 = A(X**11 + 3*X**2 - 1)\n",
    "A1,A2,A3"
   ]
  },
  {
   "cell_type": "code",
   "execution_count": null,
   "id": "096053cc-8a37-46f1-b53f-55bce1f72ad9",
   "metadata": {},
   "outputs": [],
   "source": []
  },
  {
   "cell_type": "code",
   "execution_count": null,
   "id": "bf106da4-8a92-4723-81fc-bc2f0b6dab30",
   "metadata": {},
   "outputs": [],
   "source": []
  }
 ],
 "metadata": {
  "kernelspec": {
   "display_name": "SageMath 10.5",
   "language": "sage",
   "name": "sagemath-10.5"
  },
  "language_info": {
   "codemirror_mode": {
    "name": "ipython",
    "version": 3
   },
   "file_extension": ".py",
   "mimetype": "text/x-python",
   "name": "python",
   "nbconvert_exporter": "python",
   "pygments_lexer": "ipython3",
   "version": "3.12.5"
  }
 },
 "nbformat": 4,
 "nbformat_minor": 5
}
