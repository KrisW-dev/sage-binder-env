{
 "cells": [
  {
   "cell_type": "code",
   "execution_count": 1,
   "id": "5d11b66e-12a1-4677-b140-9fed48ddc3fb",
   "metadata": {},
   "outputs": [],
   "source": [
    "%display latex"
   ]
  },
  {
   "cell_type": "markdown",
   "id": "9e4b9fac-4aa3-4df8-94ca-b2645a927416",
   "metadata": {},
   "source": [
    "# Symmetric groups, cosets and french multiplication"
   ]
  },
  {
   "cell_type": "code",
   "execution_count": 39,
   "id": "e775ee2f-0fac-4dca-ac0b-c8d61e5640c1",
   "metadata": {},
   "outputs": [],
   "source": [
    "S3=SymmetricGroup(3)"
   ]
  },
  {
   "cell_type": "code",
   "execution_count": 40,
   "id": "acf39d49-3aa2-4a01-87ad-26ee905fee57",
   "metadata": {},
   "outputs": [
    {
     "data": {
      "text/html": [
       "<html>\\(\\displaystyle \\mathrm{True}\\)</html>"
      ],
      "text/latex": [
       "$\\displaystyle \\mathrm{True}$"
      ],
      "text/plain": [
       "True"
      ]
     },
     "execution_count": 40,
     "metadata": {},
     "output_type": "execute_result"
    }
   ],
   "source": [
    "S3==DihedralGroup(3)"
   ]
  },
  {
   "cell_type": "code",
   "execution_count": 41,
   "id": "003a8cd4-9716-4529-aa26-a3cd8b05495e",
   "metadata": {},
   "outputs": [
    {
     "data": {
      "text/html": [
       "<html>\\(\\displaystyle \\left[1, (1,2), (1,2,3)\\right]\\)</html>"
      ],
      "text/latex": [
       "$\\displaystyle \\left[1, (1,2), (1,2,3)\\right]$"
      ],
      "text/plain": [
       "[(), (1,2), (1,2,3)]"
      ]
     },
     "execution_count": 41,
     "metadata": {},
     "output_type": "execute_result"
    }
   ],
   "source": [
    "S3.conjugacy_classes_representatives()"
   ]
  },
  {
   "cell_type": "code",
   "execution_count": 42,
   "id": "93ee0607-c721-4bff-a6f9-61b09de90444",
   "metadata": {},
   "outputs": [
    {
     "data": {
      "text/html": [
       "<html>\\(\\displaystyle \\left[1, (1,3,2), (1,2,3), (2,3), (1,3), (1,2)\\right]\\)</html>"
      ],
      "text/latex": [
       "$\\displaystyle \\left[1, (1,3,2), (1,2,3), (2,3), (1,3), (1,2)\\right]$"
      ],
      "text/plain": [
       "[(), (1,3,2), (1,2,3), (2,3), (1,3), (1,2)]"
      ]
     },
     "execution_count": 42,
     "metadata": {},
     "output_type": "execute_result"
    }
   ],
   "source": [
    "S3.list()"
   ]
  },
  {
   "cell_type": "code",
   "execution_count": 43,
   "id": "cde9b453-6e46-433a-93a3-b49a5fae0370",
   "metadata": {},
   "outputs": [
    {
     "data": {
      "text/html": [
       "<html>\\(\\displaystyle \\mathrm{True}\\)</html>"
      ],
      "text/latex": [
       "$\\displaystyle \\mathrm{True}$"
      ],
      "text/plain": [
       "True"
      ]
     },
     "execution_count": 43,
     "metadata": {},
     "output_type": "execute_result"
    }
   ],
   "source": [
    "S3 == DihedralGroup(3)"
   ]
  },
  {
   "cell_type": "markdown",
   "id": "6e21495e-71c1-4882-bff2-beb25ec703c5",
   "metadata": {},
   "source": [
    "Cayley table"
   ]
  },
  {
   "cell_type": "code",
   "execution_count": 54,
   "id": "0de64e26-c509-46c8-b595-327036cd8979",
   "metadata": {},
   "outputs": [
    {
     "data": {
      "text/html": [
       "<html>\\(\\displaystyle \\verb|(1,2)|\\)</html>"
      ],
      "text/latex": [
       "$\\displaystyle \\verb|(1,2)|$"
      ],
      "text/plain": [
       "'(1,2)'"
      ]
     },
     "execution_count": 54,
     "metadata": {},
     "output_type": "execute_result"
    }
   ],
   "source": [
    "str(S3([(1,2)]))"
   ]
  },
  {
   "cell_type": "code",
   "execution_count": 108,
   "id": "3456776f-dfa2-47f0-b717-ad45911a4c70",
   "metadata": {},
   "outputs": [],
   "source": [
    "def cayley_table(Sn,french=True):\n",
    "    if french:\n",
    "        return [[b*a for b in list(Sn)] for a in list(Sn)]\n",
    "    else:\n",
    "        return [[a*b for b in list(Sn)] for a in list(Sn)]\n",
    "\n",
    "def print_table(tab,padding = 10, l1=0,l2=10**6,c1=0,c2=10**6): # multiplication table for maximally 10**6 ellements (hack)\n",
    "    for l in tab[l1:l2]:\n",
    "        s = ''\n",
    "        for w in l:\n",
    "            s = s + f\"{str(w):>{padding}}\"\n",
    "        print(s + '\\n')"
   ]
  },
  {
   "cell_type": "code",
   "execution_count": 107,
   "id": "dd329d26-fc75-497b-af29-bf42d1d0727f",
   "metadata": {},
   "outputs": [
    {
     "name": "stdout",
     "output_type": "stream",
     "text": [
      "        ()   (1,3,2)   (1,2,3)     (2,3)     (1,3)     (1,2)\n",
      "\n",
      "   (1,3,2)   (1,2,3)        ()     (1,3)     (1,2)     (2,3)\n",
      "\n",
      "   (1,2,3)        ()   (1,3,2)     (1,2)     (2,3)     (1,3)\n",
      "\n",
      "     (2,3)     (1,2)     (1,3)        ()   (1,2,3)   (1,3,2)\n",
      "\n",
      "     (1,3)     (2,3)     (1,2)   (1,3,2)        ()   (1,2,3)\n",
      "\n",
      "     (1,2)     (1,3)     (2,3)   (1,2,3)   (1,3,2)        ()\n",
      "\n"
     ]
    }
   ],
   "source": [
    "print_table(cayley_table(S3))"
   ]
  },
  {
   "cell_type": "code",
   "execution_count": 77,
   "id": "918dbfaf-d631-4d3f-bef2-b6fa2fc5afb3",
   "metadata": {},
   "outputs": [
    {
     "data": {
      "text/html": [
       "<html>\\(\\displaystyle \\hbox{Subgroup } \\langle 1 \\rangle \\hbox{ of } \\langle (1,2,3), (1,2) \\rangle\\)</html>"
      ],
      "text/latex": [
       "$\\displaystyle \\hbox{Subgroup } \\langle 1 \\rangle \\hbox{ of } \\langle (1,2,3), (1,2) \\rangle$"
      ],
      "text/plain": [
       "Subgroup generated by [()] of (Symmetric group of order 3! as a permutation group)"
      ]
     },
     "execution_count": 77,
     "metadata": {},
     "output_type": "execute_result"
    }
   ],
   "source": [
    "S3.center()"
   ]
  },
  {
   "cell_type": "code",
   "execution_count": 114,
   "id": "ff952646-9e72-4f78-bee0-24604f60685d",
   "metadata": {},
   "outputs": [
    {
     "data": {
      "text/html": [
       "<html>\\(\\displaystyle (1,3)\\)</html>"
      ],
      "text/latex": [
       "$\\displaystyle (1,3)$"
      ],
      "text/plain": [
       "(1,3)"
      ]
     },
     "execution_count": 114,
     "metadata": {},
     "output_type": "execute_result"
    }
   ],
   "source": [
    "S3((2,3))*S3((1,3,2))"
   ]
  },
  {
   "cell_type": "code",
   "execution_count": 96,
   "id": "6549c358-1df3-4ae1-a0a8-0804d6b9d337",
   "metadata": {},
   "outputs": [
    {
     "data": {
      "text/html": [
       "<html>\\(\\displaystyle \\langle (1,2,3,4), (1,2) \\rangle\\)</html>"
      ],
      "text/latex": [
       "$\\displaystyle \\langle (1,2,3,4), (1,2) \\rangle$"
      ],
      "text/plain": [
       "Symmetric group of order 4! as a permutation group"
      ]
     },
     "execution_count": 96,
     "metadata": {},
     "output_type": "execute_result"
    }
   ],
   "source": [
    "S4=SymmetricGroup(4)\n",
    "S4"
   ]
  },
  {
   "cell_type": "code",
   "execution_count": 98,
   "id": "50b2cdca-052d-44bc-a533-ad5a5751b1ab",
   "metadata": {},
   "outputs": [
    {
     "data": {
      "text/html": [
       "<html>\\(\\displaystyle \\left[1, (1,3)(2,4), (1,4)(2,3), (1,2)(3,4), (2,3,4), (1,3,2), (1,4,3), (1,2,4), (2,4,3), (1,3,4), (1,4,2), (1,2,3), (3,4), (1,3,2,4), (1,4,2,3), (1,2), (2,3), (1,3,4,2), (1,4), (1,2,4,3), (2,4), (1,3), (1,4,3,2), (1,2,3,4)\\right]\\)</html>"
      ],
      "text/latex": [
       "$\\displaystyle \\left[1, (1,3)(2,4), (1,4)(2,3), (1,2)(3,4), (2,3,4), (1,3,2), (1,4,3), (1,2,4), (2,4,3), (1,3,4), (1,4,2), (1,2,3), (3,4), (1,3,2,4), (1,4,2,3), (1,2), (2,3), (1,3,4,2), (1,4), (1,2,4,3), (2,4), (1,3), (1,4,3,2), (1,2,3,4)\\right]$"
      ],
      "text/plain": [
       "[(),\n",
       " (1,3)(2,4),\n",
       " (1,4)(2,3),\n",
       " (1,2)(3,4),\n",
       " (2,3,4),\n",
       " (1,3,2),\n",
       " (1,4,3),\n",
       " (1,2,4),\n",
       " (2,4,3),\n",
       " (1,3,4),\n",
       " (1,4,2),\n",
       " (1,2,3),\n",
       " (3,4),\n",
       " (1,3,2,4),\n",
       " (1,4,2,3),\n",
       " (1,2),\n",
       " (2,3),\n",
       " (1,3,4,2),\n",
       " (1,4),\n",
       " (1,2,4,3),\n",
       " (2,4),\n",
       " (1,3),\n",
       " (1,4,3,2),\n",
       " (1,2,3,4)]"
      ]
     },
     "execution_count": 98,
     "metadata": {},
     "output_type": "execute_result"
    }
   ],
   "source": [
    "S4.list()"
   ]
  },
  {
   "cell_type": "code",
   "execution_count": 112,
   "id": "26dbc5b0-c196-47c9-965f-e1a2b2ba4d70",
   "metadata": {},
   "outputs": [
    {
     "data": {
      "text/html": [
       "<html>\\(\\displaystyle \\hbox{Subgroup } \\langle 1 \\rangle \\hbox{ of } \\langle (1,2,3,4), (1,2) \\rangle\\)</html>"
      ],
      "text/latex": [
       "$\\displaystyle \\hbox{Subgroup } \\langle 1 \\rangle \\hbox{ of } \\langle (1,2,3,4), (1,2) \\rangle$"
      ],
      "text/plain": [
       "Subgroup generated by [()] of (Symmetric group of order 4! as a permutation group)"
      ]
     },
     "execution_count": 112,
     "metadata": {},
     "output_type": "execute_result"
    }
   ],
   "source": [
    "S4.center()"
   ]
  },
  {
   "cell_type": "code",
   "execution_count": 19,
   "id": "0a7c9260-a37a-471a-b867-4a89ae6bbbb5",
   "metadata": {},
   "outputs": [],
   "source": [
    "def mul(s,t):\n",
    "    return s*t\n",
    "\n",
    "def f_mul(s,t):\n",
    "    return t*s"
   ]
  },
  {
   "cell_type": "code",
   "execution_count": 27,
   "id": "0eaf6513-8aa7-47b1-885e-f88e2e7e3086",
   "metadata": {},
   "outputs": [
    {
     "data": {
      "text/html": [
       "<html>\\(\\displaystyle (2,3)\\)</html>"
      ],
      "text/latex": [
       "$\\displaystyle (2,3)$"
      ],
      "text/plain": [
       "(2,3)"
      ]
     },
     "execution_count": 27,
     "metadata": {},
     "output_type": "execute_result"
    }
   ],
   "source": [
    "f_mul(S3((1,2)),S3((1,2,3)))"
   ]
  },
  {
   "cell_type": "code",
   "execution_count": 20,
   "id": "3cb3d264-c273-4cf6-8ffa-bc27178cd671",
   "metadata": {},
   "outputs": [],
   "source": [
    "def l_coset(s,H):\n",
    "    return [f_mul(s,x) for x in H]\n",
    "\n",
    "def r_coset(s,H):\n",
    "    return [f_mul(x,s) for x in H]"
   ]
  },
  {
   "cell_type": "code",
   "execution_count": 33,
   "id": "67ef3ce1-9df9-4c26-beaa-224b54911da7",
   "metadata": {},
   "outputs": [
    {
     "data": {
      "text/html": [
       "<html>\\(\\displaystyle \\left[1, (1,2)\\right]\\)</html>"
      ],
      "text/latex": [
       "$\\displaystyle \\left[1, (1,2)\\right]$"
      ],
      "text/plain": [
       "[(), (1,2)]"
      ]
     },
     "execution_count": 33,
     "metadata": {},
     "output_type": "execute_result"
    }
   ],
   "source": [
    "H=[S3(()),S3((1,2))];H"
   ]
  },
  {
   "cell_type": "code",
   "execution_count": 36,
   "id": "fffd040f-56d6-45c9-8fca-16d34e119f27",
   "metadata": {},
   "outputs": [
    {
     "data": {
      "text/html": [
       "<html>\\(\\displaystyle \\left[(1,2,3), (2,3)\\right]\\)</html>"
      ],
      "text/latex": [
       "$\\displaystyle \\left[(1,2,3), (2,3)\\right]$"
      ],
      "text/plain": [
       "[(1,2,3), (2,3)]"
      ]
     },
     "execution_count": 36,
     "metadata": {},
     "output_type": "execute_result"
    }
   ],
   "source": [
    "r_coset(S3((1,2,3)),H)"
   ]
  },
  {
   "cell_type": "code",
   "execution_count": 37,
   "id": "1cab23b9-ad17-4602-ba28-a82d84087296",
   "metadata": {},
   "outputs": [
    {
     "data": {
      "text/html": [
       "<html>\\(\\displaystyle \\left[(1,2,3), (1,3)\\right]\\)</html>"
      ],
      "text/latex": [
       "$\\displaystyle \\left[(1,2,3), (1,3)\\right]$"
      ],
      "text/plain": [
       "[(1,2,3), (1,3)]"
      ]
     },
     "execution_count": 37,
     "metadata": {},
     "output_type": "execute_result"
    }
   ],
   "source": [
    "l_coset(S3((1,2,3)),H)"
   ]
  },
  {
   "cell_type": "code",
   "execution_count": 15,
   "id": "e6a37797-5174-4a39-894e-63cfdd10bbe9",
   "metadata": {},
   "outputs": [
    {
     "data": {
      "text/html": [
       "<html>\\(\\displaystyle (1,3)\\)</html>"
      ],
      "text/latex": [
       "$\\displaystyle (1,3)$"
      ],
      "text/plain": [
       "(1,3)"
      ]
     },
     "execution_count": 15,
     "metadata": {},
     "output_type": "execute_result"
    }
   ],
   "source": [
    "mul(S3((1,2)),S3((1,2,3)))"
   ]
  },
  {
   "cell_type": "code",
   "execution_count": 16,
   "id": "a49516c7-47e8-429b-8ff2-59aee25090f8",
   "metadata": {},
   "outputs": [
    {
     "data": {
      "text/html": [
       "<html>\\(\\displaystyle (2,3)\\)</html>"
      ],
      "text/latex": [
       "$\\displaystyle (2,3)$"
      ],
      "text/plain": [
       "(2,3)"
      ]
     },
     "execution_count": 16,
     "metadata": {},
     "output_type": "execute_result"
    }
   ],
   "source": [
    "f_mul(S3((1,2)),S3((1,2,3)))"
   ]
  },
  {
   "cell_type": "markdown",
   "id": "d917d3e3-96f2-4911-8259-9c3783a8cac9",
   "metadata": {},
   "source": [
    "The type thing"
   ]
  },
  {
   "cell_type": "code",
   "execution_count": 17,
   "id": "8cee3225-627f-4a98-a4e8-3734e0094988",
   "metadata": {},
   "outputs": [],
   "source": [
    "S8 = SymmetricGroup(8)"
   ]
  },
  {
   "cell_type": "code",
   "execution_count": 28,
   "id": "bb258eec-8eda-48db-8ba2-5a5baa0ea7ee",
   "metadata": {},
   "outputs": [
    {
     "data": {
      "text/html": [
       "<html>\\(\\displaystyle \\left((1,8,6,3,2)(4,7), (1,2,3,4,5)(6,7), (2,8,5)(3,6,4)\\right)\\)</html>"
      ],
      "text/latex": [
       "$\\displaystyle \\left((1,8,6,3,2)(4,7), (1,2,3,4,5)(6,7), (2,8,5)(3,6,4)\\right)$"
      ],
      "text/plain": [
       "((1,8,6,3,2)(4,7), (1,2,3,4,5)(6,7), (2,8,5)(3,6,4))"
      ]
     },
     "execution_count": 28,
     "metadata": {},
     "output_type": "execute_result"
    }
   ],
   "source": [
    "rho = f_mul(S8((1,8,6,3,2)),S8((4,7)))\n",
    "tau = f_mul(S8((1,2,3,4,5)),S8((6,7)))\n",
    "sigma = f_mul(S8((2,8,5)),S8((3,6,4)))\n",
    "rho,tau,sigma"
   ]
  },
  {
   "cell_type": "code",
   "execution_count": 33,
   "id": "7ce7c7fc-7554-4853-a31c-569b863d1dfb",
   "metadata": {},
   "outputs": [
    {
     "data": {
      "text/html": [
       "<html>\\(\\displaystyle \\mathrm{True}\\)</html>"
      ],
      "text/latex": [
       "$\\displaystyle \\mathrm{True}$"
      ],
      "text/plain": [
       "True"
      ]
     },
     "execution_count": 33,
     "metadata": {},
     "output_type": "execute_result"
    }
   ],
   "source": [
    "sigma*rho*sigma^-1 == tau"
   ]
  },
  {
   "cell_type": "code",
   "execution_count": 34,
   "id": "aacdee8a-cee0-469e-8ac7-8320573648c3",
   "metadata": {},
   "outputs": [
    {
     "data": {
      "text/html": [
       "<html>\\(\\displaystyle (1,2,3,4,5)(6,7)\\)</html>"
      ],
      "text/latex": [
       "$\\displaystyle (1,2,3,4,5)(6,7)$"
      ],
      "text/plain": [
       "(1,2,3,4,5)(6,7)"
      ]
     },
     "execution_count": 34,
     "metadata": {},
     "output_type": "execute_result"
    }
   ],
   "source": [
    "f_mul(sigma^-1,f_mul(rho,sigma))"
   ]
  },
  {
   "cell_type": "markdown",
   "id": "381905b9-e144-4e6f-990e-07f196ff42c6",
   "metadata": {},
   "source": [
    "# Counting conjugacy classes\n",
    "$$\n",
    "\\mid C_{[[\\sigma]]} \\mid = \n",
    "\\frac{n!}{\\prod_{l \\in supp(\\sigma} l^{\\mu(l)} \\mu(l)! }\n",
    "$$"
   ]
  },
  {
   "cell_type": "code",
   "execution_count": 4,
   "id": "36c51cd9-cba6-4e3b-a674-12e4ceb2ff0c",
   "metadata": {},
   "outputs": [],
   "source": [
    "def card(n,type): # type = \"multiset\"\n",
    "    c = 1\n",
    "    for (v,m) in type:\n",
    "        c = c*(v**m)*factorial(m)\n",
    "    return factorial(n)/c"
   ]
  },
  {
   "cell_type": "code",
   "execution_count": 12,
   "id": "264a0afb-4510-4671-8c73-433e31177e23",
   "metadata": {},
   "outputs": [
    {
     "data": {
      "text/html": [
       "<html>\\(\\displaystyle 1\\)</html>"
      ],
      "text/latex": [
       "$\\displaystyle 1$"
      ],
      "text/plain": [
       "1"
      ]
     },
     "execution_count": 12,
     "metadata": {},
     "output_type": "execute_result"
    }
   ],
   "source": [
    "card(5,[(1,5)])"
   ]
  },
  {
   "cell_type": "code",
   "execution_count": 6,
   "id": "16b00f06-8aac-4884-8979-cfca1d2d97bf",
   "metadata": {},
   "outputs": [
    {
     "data": {
      "text/html": [
       "<html>\\(\\displaystyle 10\\)</html>"
      ],
      "text/latex": [
       "$\\displaystyle 10$"
      ],
      "text/plain": [
       "10"
      ]
     },
     "execution_count": 6,
     "metadata": {},
     "output_type": "execute_result"
    }
   ],
   "source": [
    "card(5,[(1,3),(2,1)])"
   ]
  },
  {
   "cell_type": "code",
   "execution_count": 7,
   "id": "366c8b5a-6682-40f9-9d8a-4828e1512b4d",
   "metadata": {},
   "outputs": [
    {
     "data": {
      "text/html": [
       "<html>\\(\\displaystyle 15\\)</html>"
      ],
      "text/latex": [
       "$\\displaystyle 15$"
      ],
      "text/plain": [
       "15"
      ]
     },
     "execution_count": 7,
     "metadata": {},
     "output_type": "execute_result"
    }
   ],
   "source": [
    "card(5,[(1,1),(2,2)])"
   ]
  },
  {
   "cell_type": "code",
   "execution_count": 8,
   "id": "9b59d8d9-ace0-4dc2-aecd-f374fd0219c2",
   "metadata": {},
   "outputs": [
    {
     "data": {
      "text/html": [
       "<html>\\(\\displaystyle 20\\)</html>"
      ],
      "text/latex": [
       "$\\displaystyle 20$"
      ],
      "text/plain": [
       "20"
      ]
     },
     "execution_count": 8,
     "metadata": {},
     "output_type": "execute_result"
    }
   ],
   "source": [
    "card(5,[(1,2),(3,1)])"
   ]
  },
  {
   "cell_type": "code",
   "execution_count": 9,
   "id": "4af4e142-c804-40bd-88b5-537dbb7a3730",
   "metadata": {},
   "outputs": [
    {
     "data": {
      "text/html": [
       "<html>\\(\\displaystyle 20\\)</html>"
      ],
      "text/latex": [
       "$\\displaystyle 20$"
      ],
      "text/plain": [
       "20"
      ]
     },
     "execution_count": 9,
     "metadata": {},
     "output_type": "execute_result"
    }
   ],
   "source": [
    "card(5,[(2,1),(3,1)])"
   ]
  },
  {
   "cell_type": "code",
   "execution_count": 10,
   "id": "15dec76d-9f4a-4507-a007-4302c63a36d4",
   "metadata": {},
   "outputs": [
    {
     "data": {
      "text/html": [
       "<html>\\(\\displaystyle 30\\)</html>"
      ],
      "text/latex": [
       "$\\displaystyle 30$"
      ],
      "text/plain": [
       "30"
      ]
     },
     "execution_count": 10,
     "metadata": {},
     "output_type": "execute_result"
    }
   ],
   "source": [
    "card(5,[(1,1),(4,1)])"
   ]
  },
  {
   "cell_type": "code",
   "execution_count": 11,
   "id": "7cf74d38-be3c-421b-b29a-12945b3a286b",
   "metadata": {},
   "outputs": [
    {
     "data": {
      "text/html": [
       "<html>\\(\\displaystyle 24\\)</html>"
      ],
      "text/latex": [
       "$\\displaystyle 24$"
      ],
      "text/plain": [
       "24"
      ]
     },
     "execution_count": 11,
     "metadata": {},
     "output_type": "execute_result"
    }
   ],
   "source": [
    "card(5,[(5,1)])"
   ]
  },
  {
   "cell_type": "code",
   "execution_count": 13,
   "id": "a70d9a2e-83f3-4e64-bf7c-f564ab00aaa8",
   "metadata": {},
   "outputs": [
    {
     "data": {
      "text/html": [
       "<html>\\(\\displaystyle 120\\)</html>"
      ],
      "text/latex": [
       "$\\displaystyle 120$"
      ],
      "text/plain": [
       "120"
      ]
     },
     "execution_count": 13,
     "metadata": {},
     "output_type": "execute_result"
    }
   ],
   "source": [
    "1+10+15+20+20+30+24"
   ]
  },
  {
   "cell_type": "code",
   "execution_count": 15,
   "id": "007ac9a9-c872-41f9-b159-a797bdfe5205",
   "metadata": {},
   "outputs": [
    {
     "data": {
      "text/html": [
       "<html>\\(\\displaystyle 10\\)</html>"
      ],
      "text/latex": [
       "$\\displaystyle 10$"
      ],
      "text/plain": [
       "10"
      ]
     },
     "execution_count": 15,
     "metadata": {},
     "output_type": "execute_result"
    }
   ],
   "source": [
    "120/(2*factorial(3))"
   ]
  },
  {
   "cell_type": "code",
   "execution_count": null,
   "id": "a2c6a022-f7a7-4342-9753-95a7fb5c3f7a",
   "metadata": {},
   "outputs": [],
   "source": []
  }
 ],
 "metadata": {
  "kernelspec": {
   "display_name": "SageMath 10.5",
   "language": "sage",
   "name": "sagemath-10.5"
  },
  "language_info": {
   "codemirror_mode": {
    "name": "ipython",
    "version": 3
   },
   "file_extension": ".py",
   "mimetype": "text/x-python",
   "name": "python",
   "nbconvert_exporter": "python",
   "pygments_lexer": "ipython3",
   "version": "3.12.5"
  }
 },
 "nbformat": 4,
 "nbformat_minor": 5
}
